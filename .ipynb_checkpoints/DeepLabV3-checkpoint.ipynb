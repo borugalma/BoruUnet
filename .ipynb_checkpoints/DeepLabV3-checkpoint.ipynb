{
 "cells": [
  {
   "cell_type": "code",
   "execution_count": null,
   "id": "47b4acb8-ca2a-4fdc-b7d7-a74c1319c4ae",
   "metadata": {},
   "outputs": [],
   "source": [
    "import os\n",
    "import cv2\n",
    "import numpy as np\n",
    "import matplotlib.pyplot as plt\n",
    "\n",
    "def load_and_display_images(gt_folder, img_folder):\n",
    "    gt_files = sorted(os.listdir(gt_folder))\n",
    "    img_files = sorted(os.listdir(img_folder))\n",
    "    \n",
    "    for i, (gt_file, img_file) in enumerate(zip(gt_files, img_files)):\n",
    "        if i >= 50:\n",
    "            break\n",
    "        gt_path = os.path.join(gt_folder, gt_file)\n",
    "        img_path = os.path.join(img_folder, img_file)\n",
    "        \n",
    "        gt_image = cv2.imread(gt_path)\n",
    "        img_image = cv2.imread(img_path)\n",
    "        \n",
    "        if gt_image is None or img_image is None:\n",
    "            print(f\"Error loading {gt_file} or {img_file}\")\n",
    "            continue\n",
    "        \n",
    "        # Resize images to the same size\n",
    "        gt_image = cv2.resize(gt_image, (img_image.shape[1], img_image.shape[0]))\n",
    "        \n",
    "        # Display images side by side\n",
    "        plt.figure(figsize=(10,5))\n",
    "        \n",
    "        plt.subplot(1, 2, 1)\n",
    "        plt.imshow(cv2.cvtColor(img_image, cv2.COLOR_BGR2RGB))\n",
    "        plt.axis('off')\n",
    "        plt.title(f\"Image: {img_file}\")\n",
    "        \n",
    "        plt.subplot(1, 2, 2)\n",
    "        plt.imshow(cv2.cvtColor(gt_image, cv2.COLOR_BGR2RGB))\n",
    "        plt.axis('off')\n",
    "        plt.title(f\"GT: {gt_file}\")\n",
    "        \n",
    "        plt.show()\n",
    "\n",
    "# Define paths\n",
    "gt_path = os.path.join(\"./GT\")\n",
    "img_path = os.path.join(\"./Images\")\n",
    "\n",
    "# Run the function\n",
    "load_and_display_images(gt_path, img_path)"
   ]
  }
 ],
 "metadata": {
  "kernelspec": {
   "display_name": "Python 3 (ipykernel)",
   "language": "python",
   "name": "python3"
  },
  "language_info": {
   "codemirror_mode": {
    "name": "ipython",
    "version": 3
   },
   "file_extension": ".py",
   "mimetype": "text/x-python",
   "name": "python",
   "nbconvert_exporter": "python",
   "pygments_lexer": "ipython3",
   "version": "3.12.7"
  }
 },
 "nbformat": 4,
 "nbformat_minor": 5
}
